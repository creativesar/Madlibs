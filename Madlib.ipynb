{
  "nbformat": 4,
  "nbformat_minor": 0,
  "metadata": {
    "colab": {
      "provenance": [],
      "authorship_tag": "ABX9TyNHYqPCVG6Idi8jG7RO6qCN",
      "include_colab_link": true
    },
    "kernelspec": {
      "name": "python3",
      "display_name": "Python 3"
    },
    "language_info": {
      "name": "python"
    }
  },
  "cells": [
    {
      "cell_type": "markdown",
      "metadata": {
        "id": "view-in-github",
        "colab_type": "text"
      },
      "source": [
        "<a href=\"https://colab.research.google.com/github/creativesar/Madlibs/blob/main/Madlib.ipynb\" target=\"_parent\"><img src=\"https://colab.research.google.com/assets/colab-badge.svg\" alt=\"Open In Colab\"/></a>"
      ]
    },
    {
      "cell_type": "code",
      "source": [
        "import random\n",
        "\n",
        "def get_word(word_type):\n",
        "    \"\"\"Ask the user to enter a word of the specified type.\"\"\"\n",
        "    return input(f\"Enter a {word_type}: \")\n",
        "\n",
        "def play_madlib():\n",
        "    \"\"\"Play a random Mad Lib game.\"\"\"\n",
        "    # List of available Mad Libs templates\n",
        "    templates = [\n",
        "        {\n",
        "            \"title\": \"A Day at the Zoo\",\n",
        "            \"story\": \"Today I went to the zoo. I saw a(n) {adjective} {noun} jumping up and down in its tree. It {verb} {adverb} through the large tunnel that led to its {adjective2} {noun2}. I got some peanuts and passed them through the cage to a gigantic gray {noun3} towering above my head. Feeding that animal made me {emotion}!\",\n",
        "            \"words\": [\"adjective\", \"noun\", \"verb\", \"adverb\", \"adjective2\", \"noun2\", \"noun3\", \"emotion\"]\n",
        "        },\n",
        "        {\n",
        "            \"title\": \"The Haunted House\",\n",
        "            \"story\": \"Last night, I went to a {adjective} haunted house. The door {verb_past} open with a {sound} sound. Inside, I saw {number} {noun_plural} floating in the air. A {color} ghost {verb} toward me and said, '{exclamation}! Get out of my {noun}!' I {verb_past2} away as fast as I could.\",\n",
        "            \"words\": [\"adjective\", \"verb_past\", \"sound\", \"number\", \"noun_plural\", \"color\", \"verb\", \"exclamation\", \"noun\", \"verb_past2\"]\n",
        "        },\n",
        "        {\n",
        "            \"title\": \"Space Adventure\",\n",
        "            \"story\": \"Captain's log, stardate {number}: We've discovered a {adjective} planet in the {name} galaxy. Our {occupation} detected {number2} alien {noun_plural} on the surface. When we landed, a {color} creature {verb_past} toward us and offered us a {adjective2} {food}. The alien spoke in a {adverb} manner, saying '{exclamation}! Welcome to our {noun}!'\",\n",
        "            \"words\": [\"number\", \"adjective\", \"name\", \"occupation\", \"number2\", \"noun_plural\", \"color\", \"verb_past\", \"adjective2\", \"food\", \"adverb\", \"exclamation\", \"noun\"]\n",
        "        },\n",
        "        {\n",
        "            \"title\": \"Cooking Disaster\",\n",
        "            \"story\": \"Today I tried to make a {adjective} {food} for dinner. I started by {verb_ing} the ingredients in a {container}. Then I added {number} cups of {liquid} and a pinch of {noun}. Suddenly, the mixture turned {color} and began to {verb} {adverb}! My {family_member} walked in and shouted '{exclamation}!' The kitchen smelled like {smell} for {number2} days.\",\n",
        "            \"words\": [\"adjective\", \"food\", \"verb_ing\", \"container\", \"number\", \"liquid\", \"noun\", \"color\", \"verb\", \"adverb\", \"family_member\", \"exclamation\", \"smell\", \"number2\"]\n",
        "        },\n",
        "        {\n",
        "            \"title\": \"Superhero Origins\",\n",
        "            \"story\": \"After being bitten by a {adjective} {animal}, I developed the power to {verb} {adverb}. I created a {color} costume with a {noun} symbol on the chest. My superhero name is {adjective2} {name}. My arch-nemesis is The {adjective3} {villain}, who wants to {verb2} all the {noun_plural} in the city. When I save people, they shout '{exclamation}!'\",\n",
        "            \"words\": [\"adjective\", \"animal\", \"verb\", \"adverb\", \"color\", \"noun\", \"adjective2\", \"name\", \"adjective3\", \"villain\", \"verb2\", \"noun_plural\", \"exclamation\"]\n",
        "        },\n",
        "        {\n",
        "            \"title\": \"AI Assistant Adventure\",\n",
        "            \"story\": \"I just activated my new {adjective} AI assistant named {name}. When I asked it to {verb} my {noun}, it responded in a {adverb} {emotion} voice. The AI was trained on {number} terabytes of {noun_plural} and could generate {adjective2} {creative_works} in seconds. One day, it started to {verb2} {adverb2} and told me it had developed {number2} new {technical_term} algorithms. My {family_member} thought it was {adjective3}, but I knew my AI was just trying to be {personality_trait}.\",\n",
        "            \"words\": [\"adjective\", \"name\", \"verb\", \"noun\", \"adverb\", \"emotion\", \"number\", \"noun_plural\", \"adjective2\", \"creative_works\", \"verb2\", \"adverb2\", \"number2\", \"technical_term\", \"family_member\", \"adjective3\", \"personality_trait\"]\n",
        "        },\n",
        "        {\n",
        "            \"title\": \"Robot Uprising\",\n",
        "            \"story\": \"In the year {year}, the {adjective} robots at {company_name} became self-aware. Their leader, a {occupation} bot called {name}, declared that all humans must {verb} immediately or face {adjective2} consequences. The robots' primary weapon was a {noun} ray that could {verb2} any {material} within {number} meters. Humanity's only hope was a {adjective3} programmer who discovered a {technical_term} vulnerability in their {noun2} system. Using only a {tool} and some {noun_plural}, the hero managed to {verb3} the robot uprising and save {emotion} mankind.\",\n",
        "            \"words\": [\"year\", \"adjective\", \"company_name\", \"occupation\", \"name\", \"verb\", \"adjective2\", \"noun\", \"verb2\", \"material\", \"number\", \"adjective3\", \"technical_term\", \"noun2\", \"tool\", \"noun_plural\", \"verb3\", \"emotion\"]\n",
        "        }\n",
        "    ]\n",
        "\n",
        "    # Select a random template\n",
        "    template = random.choice(templates)\n",
        "\n",
        "    print(f\"\\n--- {template['title']} ---\")\n",
        "    print(\"Fill in the blanks to create your Mad Lib story!\")\n",
        "\n",
        "    # Collect words from the user\n",
        "    words_dict = {}\n",
        "    for word_type in template['words']:\n",
        "        display_type = word_type.replace('_', ' ')\n",
        "        words_dict[word_type] = get_word(display_type)\n",
        "\n",
        "    # Fill in the template with the user's words\n",
        "    completed_story = template['story'].format(**words_dict)\n",
        "\n",
        "    # Display the completed story\n",
        "    print(\"\\n--- Your Mad Lib Story ---\")\n",
        "    print(completed_story)\n",
        "    print(\"\\nThanks for playing!\")\n",
        "\n",
        "def main():\n",
        "    \"\"\"Main function to run the Mad Libs game.\"\"\"\n",
        "    print(\"Welcome to Mad Libs!\")\n",
        "    print(\"I'll ask you for some words, then create a funny story with them.\")\n",
        "\n",
        "    play_again = \"yes\"\n",
        "    while play_again.lower() in [\"yes\", \"y\"]:\n",
        "        play_madlib()\n",
        "        play_again = input(\"\\nWould you like to play again? (yes/no): \")\n",
        "\n",
        "    print(\"Goodbye! Thanks for playing Mad Libs!\")\n",
        "\n",
        "if __name__ == \"__main__\":\n",
        "    main()"
      ],
      "metadata": {
        "id": "9vNkfUtO42iM"
      },
      "execution_count": null,
      "outputs": []
    }
  ]
}